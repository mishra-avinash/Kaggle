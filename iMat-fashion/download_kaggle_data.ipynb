{
 "cells": [
  {
   "cell_type": "code",
   "execution_count": 10,
   "metadata": {},
   "outputs": [],
   "source": [
    "from pathlib import Path"
   ]
  },
  {
   "cell_type": "markdown",
   "metadata": {},
   "source": [
    "Then you need to upload your credentials from Kaggle on your instance. Login to kaggle and click on your profile picture on the top left corner, then 'My account'. Scroll down until you find a button named 'Create New API Token' and click on it. This will trigger the download of a file named 'kaggle.json'.\n",
    "\n",
    "Upload this file to the directory this notebook is running in, by clicking \"Upload\" on your main Jupyter page, then uncomment and execute the next two commands (or run them in a terminal). For Windows, uncomment the last two commands."
   ]
  },
  {
   "cell_type": "code",
   "execution_count": 16,
   "metadata": {},
   "outputs": [],
   "source": [
    "# ! mkdir -p ~/.kaggle/\n",
    "# ! mv kaggle.json ~/.kaggle/"
   ]
  },
  {
   "cell_type": "code",
   "execution_count": 3,
   "metadata": {},
   "outputs": [],
   "source": [
    "! mkdir -p ~/.kaggle/\n",
    "! mv kaggle.json ~/.kaggle/"
   ]
  },
  {
   "cell_type": "code",
   "execution_count": 13,
   "metadata": {},
   "outputs": [],
   "source": [
    "path = Path('/home/jupyter/Kaggle/iMat-fashion/data/')"
   ]
  },
  {
   "cell_type": "code",
   "execution_count": 6,
   "metadata": {},
   "outputs": [
    {
     "name": "stdout",
     "output_type": "stream",
     "text": [
      "Warning: Your Kaggle API key is readable by other users on this system! To fix this, you can run 'chmod 600 /home/jupyter/.kaggle/kaggle.json'\n",
      "Downloading train.zip to {path}\n",
      "100%|█████████████████████████████████████▉| 17.3G/17.3G [04:20<00:00, 75.4MB/s]\n",
      "100%|██████████████████████████████████████| 17.3G/17.3G [04:21<00:00, 71.3MB/s]\n",
      "Warning: Your Kaggle API key is readable by other users on this system! To fix this, you can run 'chmod 600 /home/jupyter/.kaggle/kaggle.json'\n",
      "Downloading train.csv.zip to {path}\n",
      " 96%|██████████████████████████████████████▎ | 521M/545M [00:07<00:00, 48.3MB/s]\n",
      "100%|████████████████████████████████████████| 545M/545M [00:07<00:00, 75.4MB/s]\n",
      "Warning: Your Kaggle API key is readable by other users on this system! To fix this, you can run 'chmod 600 /home/jupyter/.kaggle/kaggle.json'\n",
      "Downloading test.zip to {path}\n",
      "100%|██████████████████████████████████████▉| 1.46G/1.46G [00:13<00:00, 130MB/s]\n",
      "100%|███████████████████████████████████████| 1.46G/1.46G [00:13<00:00, 115MB/s]\n",
      "Warning: Your Kaggle API key is readable by other users on this system! To fix this, you can run 'chmod 600 /home/jupyter/.kaggle/kaggle.json'\n",
      "Downloading sample_submission.csv to {path}\n",
      "  0%|                                                | 0.00/138k [00:00<?, ?B/s]\n",
      "100%|████████████████████████████████████████| 138k/138k [00:00<00:00, 1.96MB/s]\n",
      "Warning: Your Kaggle API key is readable by other users on this system! To fix this, you can run 'chmod 600 /home/jupyter/.kaggle/kaggle.json'\n",
      "Downloading label_descriptions.json to {path}\n",
      "  0%|                                               | 0.00/15.7k [00:00<?, ?B/s]\n",
      "100%|██████████████████████████████████████| 15.7k/15.7k [00:00<00:00, 11.2MB/s]\n"
     ]
    }
   ],
   "source": [
    "# download the files from kaggle, you need a kaggle account and api key\n",
    "! kaggle competitions download -c imaterialist-fashion-2019-FGVC6   -f train.zip -p data  \n",
    "! kaggle competitions download -c imaterialist-fashion-2019-FGVC6  -f train.csv -p  data \n",
    "! kaggle competitions download -c imaterialist-fashion-2019-FGVC6  -f test.zip -p data \n",
    "! kaggle competitions download -c imaterialist-fashion-2019-FGVC6  -f sample_submission.csv -p data\n",
    "! kaggle competitions download -c imaterialist-fashion-2019-FGVC6  -f label_descriptions.json -p data"
   ]
  },
  {
   "cell_type": "code",
   "execution_count": 14,
   "metadata": {},
   "outputs": [],
   "source": [
    "! unzip -q -n {path}/train.zip -d {path/'train'}\n",
    "! unzip -q -n {path}/test.zip -d {path/'test'}"
   ]
  },
  {
   "cell_type": "code",
   "execution_count": 15,
   "metadata": {},
   "outputs": [],
   "source": [
    "! chmod 777 './data/label_descriptions.json'\n",
    "! chmod 777 './data/sample_submission.csv'"
   ]
  },
  {
   "cell_type": "code",
   "execution_count": null,
   "metadata": {},
   "outputs": [],
   "source": []
  }
 ],
 "metadata": {
  "kernelspec": {
   "display_name": "Python 3",
   "language": "python",
   "name": "python3"
  },
  "language_info": {
   "codemirror_mode": {
    "name": "ipython",
    "version": 3
   },
   "file_extension": ".py",
   "mimetype": "text/x-python",
   "name": "python",
   "nbconvert_exporter": "python",
   "pygments_lexer": "ipython3",
   "version": "3.7.1"
  }
 },
 "nbformat": 4,
 "nbformat_minor": 2
}
